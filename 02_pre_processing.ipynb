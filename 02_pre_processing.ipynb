{
 "cells": [
  {
   "cell_type": "markdown",
   "execution_count": null,
   "metadata": {},
   "outputs": [],
   "source": [
    "# Loan Prediction - 02 - Data Preprocessing"
   ]
  },
  {
   "cell_type": "markdown",
   "execution_count": null,
   "metadata": {},
   "outputs": [],
   "source": [
    "Based on the conclusion of the Exploratory Data Analysis, we fill in some missing data assuming the following hypothesis:\n",
    "\n",
    "- Fill in the Credit_History with 0 for clients who have this value missing and had their loan application rejected.\n",
    "- Fill in the LoanAmount_Terms with 360 for clients who have this value missing.\n",
    "- Fill in the CoapplicantIncome with 0.\n",
    "- Fill in the SelfEmployed status as No."
   ]
  },
  {
   "cell_type": "code",
   "execution_count": 1,
   "metadata": {},
   "outputs": [],
   "source": [
    "import pandas as pd\n",
    "import numpy as np\n",
    "import matplotlib.pyplot as plt\n",
    "import seaborn as sns\n",
    "import math\n",
    "plt.style.use('seaborn')\n",
    "\n",
    "from sklearn import preprocessing"
   ]
  },
  {
   "cell_type": "code",
   "execution_count": 2,
   "metadata": {},
   "outputs": [
    {
     "data": {
      "text/plain": "(614, 12)"
     },
     "execution_count": 2,
     "metadata": {},
     "output_type": "execute_result"
    }
   ],
   "source": [
    "df_import = pd.read_csv('dataset/train_loan.csv')\n",
    "df_import.drop(columns=['Loan_ID'],inplace = True)\n",
    "df_import.shape"
   ]
  },
  {
   "cell_type": "markdown",
   "execution_count": null,
   "metadata": {},
   "outputs": [],
   "source": [
    "## Filling Missing Values"
   ]
  },
  {
   "cell_type": "code",
   "execution_count": 3,
   "metadata": {},
   "outputs": [],
   "source": [
    "df_fill = df_import.copy()\n",
    "df_fill.loc[(df_fill['Loan_Status'] == 'N') & (df_fill['Credit_History'].isnull()),'Credit_History'] = 0\n",
    "df_fill.loc[df_fill['Loan_Amount_Term'].isnull(),'Loan_Amount_Term'] = 360\n",
    "df_fill.loc[df_fill['Self_Employed'].isnull(),'Self_Employed'] = 'No'\n",
    "df_fill.loc[df_fill['CoapplicantIncome'].isnull(),'CoapplicantIncome'] = 0"
   ]
  },
  {
   "cell_type": "markdown",
   "execution_count": null,
   "metadata": {},
   "outputs": [],
   "source": [
    "## Removing NaNs and Checking Valid Values Again"
   ]
  },
  {
   "cell_type": "code",
   "execution_count": 4,
   "metadata": {},
   "outputs": [
    {
     "data": {
      "text/plain": "Gender               530\nMarried              530\nDependents           530\nEducation            530\nSelf_Employed        530\nApplicantIncome      530\nCoapplicantIncome    530\nLoanAmount           530\nLoan_Amount_Term     530\nCredit_History       530\nProperty_Area        530\nLoan_Status          530\ndtype: int64"
     },
     "execution_count": 4,
     "metadata": {},
     "output_type": "execute_result"
    }
   ],
   "source": [
    "df_fill.dropna(inplace = True)\n",
    "df_fill.count()"
   ]
  },
  {
   "cell_type": "markdown",
   "execution_count": null,
   "metadata": {},
   "outputs": [],
   "source": [
    "We were able to recover 50 samples compared to the original data without NaNs."
   ]
  },
  {
   "cell_type": "markdown",
   "execution_count": null,
   "metadata": {},
   "outputs": [],
   "source": [
    "## Encoding Categorical Variables to Numeric Values"
   ]
  },
  {
   "cell_type": "markdown",
   "execution_count": null,
   "metadata": {},
   "outputs": [],
   "source": [
    "Let us manually encode the variables, so we have more visibility and control of labels and codes."
   ]
  },
  {
   "cell_type": "code",
   "execution_count": 5,
   "metadata": {},
   "outputs": [
    {
     "data": {
      "text/html": "<div>\n<style scoped>\n    .dataframe tbody tr th:only-of-type {\n        vertical-align: middle;\n    }\n\n    .dataframe tbody tr th {\n        vertical-align: top;\n    }\n\n    .dataframe thead th {\n        text-align: right;\n    }\n</style>\n<table border=\"1\" class=\"dataframe\">\n  <thead>\n    <tr style=\"text-align: right;\">\n      <th></th>\n      <th>Gender</th>\n      <th>Married</th>\n      <th>Dependents</th>\n      <th>Education</th>\n      <th>Self_Employed</th>\n      <th>Property_Area</th>\n      <th>Loan_Status</th>\n    </tr>\n  </thead>\n  <tbody>\n    <tr>\n      <th>1</th>\n      <td>Male</td>\n      <td>Yes</td>\n      <td>1</td>\n      <td>Graduate</td>\n      <td>No</td>\n      <td>Rural</td>\n      <td>N</td>\n    </tr>\n    <tr>\n      <th>2</th>\n      <td>Male</td>\n      <td>Yes</td>\n      <td>0</td>\n      <td>Graduate</td>\n      <td>Yes</td>\n      <td>Urban</td>\n      <td>Y</td>\n    </tr>\n    <tr>\n      <th>3</th>\n      <td>Male</td>\n      <td>Yes</td>\n      <td>0</td>\n      <td>Not Graduate</td>\n      <td>No</td>\n      <td>Urban</td>\n      <td>Y</td>\n    </tr>\n    <tr>\n      <th>4</th>\n      <td>Male</td>\n      <td>No</td>\n      <td>0</td>\n      <td>Graduate</td>\n      <td>No</td>\n      <td>Urban</td>\n      <td>Y</td>\n    </tr>\n    <tr>\n      <th>5</th>\n      <td>Male</td>\n      <td>Yes</td>\n      <td>2</td>\n      <td>Graduate</td>\n      <td>Yes</td>\n      <td>Urban</td>\n      <td>Y</td>\n    </tr>\n  </tbody>\n</table>\n</div>",
      "text/plain": "  Gender Married Dependents     Education Self_Employed Property_Area  \\\n1   Male     Yes          1      Graduate            No         Rural   \n2   Male     Yes          0      Graduate           Yes         Urban   \n3   Male     Yes          0  Not Graduate            No         Urban   \n4   Male      No          0      Graduate            No         Urban   \n5   Male     Yes          2      Graduate           Yes         Urban   \n\n  Loan_Status  \n1           N  \n2           Y  \n3           Y  \n4           Y  \n5           Y  "
     },
     "execution_count": 5,
     "metadata": {},
     "output_type": "execute_result"
    }
   ],
   "source": [
    "categorical_columns = ['Gender', 'Married', 'Dependents', 'Education', 'Self_Employed', 'Property_Area', 'Loan_Status']\n",
    "df_fill[categorical_columns].head()"
   ]
  },
  {
   "cell_type": "code",
   "execution_count": 6,
   "metadata": {},
   "outputs": [],
   "source": [
    "def encode_labels(df_input,show_encoding = True):\n",
    "    df = df_input.copy()\n",
    "    df_encoding = pd.DataFrame(columns = df.columns,index = ['Labels','Encoding'])\n",
    "    for col in df.columns:\n",
    "        labels = df[col].unique()\n",
    "        labels.sort()\n",
    "        df_encoding.loc['Labels',col] = labels\n",
    "        if show_encoding:\n",
    "            print(col,' labels: ',labels)\n",
    "\n",
    "        for ii,label in enumerate(labels):\n",
    "            df.loc[df[col] == label,col] = ii\n",
    "            \n",
    "        encodings = list(range(labels.shape[0]))\n",
    "        encodings.sort()\n",
    "        df_encoding.loc['Encoding',col] = encodings\n",
    "        \n",
    "        if show_encoding:\n",
    "            print(col,' labels encoded: ',encodings)\n",
    "            print('')\n",
    "        \n",
    "    return df, df_encoding"
   ]
  },
  {
   "cell_type": "code",
   "execution_count": 7,
   "metadata": {},
   "outputs": [
    {
     "name": "stdout",
     "output_type": "stream",
     "text": "Gender  labels:  ['Female' 'Male']\nGender  labels encoded:  [0, 1]\n\nMarried  labels:  ['No' 'Yes']\nMarried  labels encoded:  [0, 1]\n\nDependents  labels:  ['0' '1' '2' '3+']\nDependents  labels encoded:  [0, 1, 2, 3]\n\nEducation  labels:  ['Graduate' 'Not Graduate']\nEducation  labels encoded:  [0, 1]\n\nSelf_Employed  labels:  ['No' 'Yes']\nSelf_Employed  labels encoded:  [0, 1]\n\nProperty_Area  labels:  ['Rural' 'Semiurban' 'Urban']\nProperty_Area  labels encoded:  [0, 1, 2]\n\nLoan_Status  labels:  ['N' 'Y']\nLoan_Status  labels encoded:  [0, 1]\n\n"
    }
   ],
   "source": [
    "df_encoded = df_fill.copy()\n",
    "df_encoded[categorical_columns],df_encoding_labels = encode_labels(df_fill[categorical_columns])"
   ]
  },
  {
   "cell_type": "code",
   "execution_count": 8,
   "metadata": {},
   "outputs": [
    {
     "data": {
      "text/html": "<div>\n<style scoped>\n    .dataframe tbody tr th:only-of-type {\n        vertical-align: middle;\n    }\n\n    .dataframe tbody tr th {\n        vertical-align: top;\n    }\n\n    .dataframe thead th {\n        text-align: right;\n    }\n</style>\n<table border=\"1\" class=\"dataframe\">\n  <thead>\n    <tr style=\"text-align: right;\">\n      <th></th>\n      <th>Gender</th>\n      <th>Married</th>\n      <th>Dependents</th>\n      <th>Education</th>\n      <th>Self_Employed</th>\n      <th>ApplicantIncome</th>\n      <th>CoapplicantIncome</th>\n      <th>LoanAmount</th>\n      <th>Loan_Amount_Term</th>\n      <th>Credit_History</th>\n      <th>Property_Area</th>\n      <th>Loan_Status</th>\n    </tr>\n  </thead>\n  <tbody>\n    <tr>\n      <th>0</th>\n      <td>1</td>\n      <td>1</td>\n      <td>1</td>\n      <td>0</td>\n      <td>0</td>\n      <td>4583</td>\n      <td>1508.0</td>\n      <td>128.0</td>\n      <td>360.0</td>\n      <td>1.0</td>\n      <td>0</td>\n      <td>0</td>\n    </tr>\n    <tr>\n      <th>1</th>\n      <td>1</td>\n      <td>1</td>\n      <td>0</td>\n      <td>0</td>\n      <td>1</td>\n      <td>3000</td>\n      <td>0.0</td>\n      <td>66.0</td>\n      <td>360.0</td>\n      <td>1.0</td>\n      <td>2</td>\n      <td>1</td>\n    </tr>\n    <tr>\n      <th>2</th>\n      <td>1</td>\n      <td>1</td>\n      <td>0</td>\n      <td>1</td>\n      <td>0</td>\n      <td>2583</td>\n      <td>2358.0</td>\n      <td>120.0</td>\n      <td>360.0</td>\n      <td>1.0</td>\n      <td>2</td>\n      <td>1</td>\n    </tr>\n    <tr>\n      <th>3</th>\n      <td>1</td>\n      <td>0</td>\n      <td>0</td>\n      <td>0</td>\n      <td>0</td>\n      <td>6000</td>\n      <td>0.0</td>\n      <td>141.0</td>\n      <td>360.0</td>\n      <td>1.0</td>\n      <td>2</td>\n      <td>1</td>\n    </tr>\n    <tr>\n      <th>4</th>\n      <td>1</td>\n      <td>1</td>\n      <td>2</td>\n      <td>0</td>\n      <td>1</td>\n      <td>5417</td>\n      <td>4196.0</td>\n      <td>267.0</td>\n      <td>360.0</td>\n      <td>1.0</td>\n      <td>2</td>\n      <td>1</td>\n    </tr>\n    <tr>\n      <th>5</th>\n      <td>1</td>\n      <td>1</td>\n      <td>0</td>\n      <td>1</td>\n      <td>0</td>\n      <td>2333</td>\n      <td>1516.0</td>\n      <td>95.0</td>\n      <td>360.0</td>\n      <td>1.0</td>\n      <td>2</td>\n      <td>1</td>\n    </tr>\n    <tr>\n      <th>6</th>\n      <td>1</td>\n      <td>1</td>\n      <td>3</td>\n      <td>0</td>\n      <td>0</td>\n      <td>3036</td>\n      <td>2504.0</td>\n      <td>158.0</td>\n      <td>360.0</td>\n      <td>0.0</td>\n      <td>1</td>\n      <td>0</td>\n    </tr>\n    <tr>\n      <th>7</th>\n      <td>1</td>\n      <td>1</td>\n      <td>2</td>\n      <td>0</td>\n      <td>0</td>\n      <td>4006</td>\n      <td>1526.0</td>\n      <td>168.0</td>\n      <td>360.0</td>\n      <td>1.0</td>\n      <td>2</td>\n      <td>1</td>\n    </tr>\n    <tr>\n      <th>8</th>\n      <td>1</td>\n      <td>1</td>\n      <td>1</td>\n      <td>0</td>\n      <td>0</td>\n      <td>12841</td>\n      <td>10968.0</td>\n      <td>349.0</td>\n      <td>360.0</td>\n      <td>1.0</td>\n      <td>1</td>\n      <td>0</td>\n    </tr>\n    <tr>\n      <th>9</th>\n      <td>1</td>\n      <td>1</td>\n      <td>2</td>\n      <td>0</td>\n      <td>0</td>\n      <td>3200</td>\n      <td>700.0</td>\n      <td>70.0</td>\n      <td>360.0</td>\n      <td>1.0</td>\n      <td>2</td>\n      <td>1</td>\n    </tr>\n  </tbody>\n</table>\n</div>",
      "text/plain": "   Gender  Married  Dependents  Education  Self_Employed  ApplicantIncome  \\\n0       1        1           1          0              0             4583   \n1       1        1           0          0              1             3000   \n2       1        1           0          1              0             2583   \n3       1        0           0          0              0             6000   \n4       1        1           2          0              1             5417   \n5       1        1           0          1              0             2333   \n6       1        1           3          0              0             3036   \n7       1        1           2          0              0             4006   \n8       1        1           1          0              0            12841   \n9       1        1           2          0              0             3200   \n\n   CoapplicantIncome  LoanAmount  Loan_Amount_Term  Credit_History  \\\n0             1508.0       128.0             360.0             1.0   \n1                0.0        66.0             360.0             1.0   \n2             2358.0       120.0             360.0             1.0   \n3                0.0       141.0             360.0             1.0   \n4             4196.0       267.0             360.0             1.0   \n5             1516.0        95.0             360.0             1.0   \n6             2504.0       158.0             360.0             0.0   \n7             1526.0       168.0             360.0             1.0   \n8            10968.0       349.0             360.0             1.0   \n9              700.0        70.0             360.0             1.0   \n\n   Property_Area  Loan_Status  \n0              0            0  \n1              2            1  \n2              2            1  \n3              2            1  \n4              2            1  \n5              2            1  \n6              1            0  \n7              2            1  \n8              1            0  \n9              2            1  "
     },
     "execution_count": 8,
     "metadata": {},
     "output_type": "execute_result"
    }
   ],
   "source": [
    "df_encoded.reset_index(inplace = True)\n",
    "df_encoded.drop(columns='index',inplace = True)\n",
    "df_encoded.to_csv('dataset/train_loan_preprocessed.csv')\n",
    "df_encoded.head(10)"
   ]
  },
  {
   "cell_type": "code",
   "execution_count": 9,
   "metadata": {},
   "outputs": [
    {
     "data": {
      "text/html": "<div>\n<style scoped>\n    .dataframe tbody tr th:only-of-type {\n        vertical-align: middle;\n    }\n\n    .dataframe tbody tr th {\n        vertical-align: top;\n    }\n\n    .dataframe thead th {\n        text-align: right;\n    }\n</style>\n<table border=\"1\" class=\"dataframe\">\n  <thead>\n    <tr style=\"text-align: right;\">\n      <th></th>\n      <th>Gender</th>\n      <th>Married</th>\n      <th>Dependents</th>\n      <th>Education</th>\n      <th>Self_Employed</th>\n      <th>Property_Area</th>\n      <th>Loan_Status</th>\n    </tr>\n  </thead>\n  <tbody>\n    <tr>\n      <th>Labels</th>\n      <td>[Female, Male]</td>\n      <td>[No, Yes]</td>\n      <td>[0, 1, 2, 3+]</td>\n      <td>[Graduate, Not Graduate]</td>\n      <td>[No, Yes]</td>\n      <td>[Rural, Semiurban, Urban]</td>\n      <td>[N, Y]</td>\n    </tr>\n    <tr>\n      <th>Encoding</th>\n      <td>[0, 1]</td>\n      <td>[0, 1]</td>\n      <td>[0, 1, 2, 3]</td>\n      <td>[0, 1]</td>\n      <td>[0, 1]</td>\n      <td>[0, 1, 2]</td>\n      <td>[0, 1]</td>\n    </tr>\n  </tbody>\n</table>\n</div>",
      "text/plain": "                  Gender    Married     Dependents                 Education  \\\nLabels    [Female, Male]  [No, Yes]  [0, 1, 2, 3+]  [Graduate, Not Graduate]   \nEncoding          [0, 1]     [0, 1]   [0, 1, 2, 3]                    [0, 1]   \n\n         Self_Employed              Property_Area Loan_Status  \nLabels       [No, Yes]  [Rural, Semiurban, Urban]      [N, Y]  \nEncoding        [0, 1]                  [0, 1, 2]      [0, 1]  "
     },
     "execution_count": 9,
     "metadata": {},
     "output_type": "execute_result"
    }
   ],
   "source": [
    "df_encoding_labels.to_csv('dataset/encoding_labels.csv')\n",
    "df_encoding_labels"
   ]
  },
  {
   "cell_type": "markdown",
   "execution_count": null,
   "metadata": {},
   "outputs": [],
   "source": [
    "We we able to recover some of the missing data and also encode the categorical variables. \n",
    "\n",
    "Hence, all the variables in the dataset can be treated as numerical "
   ]
  },
  {
   "cell_type": "code",
   "execution_count": 10,
   "metadata": {},
   "outputs": [],
   "source": [
    "#TODO: Study the necessity to remove outliers"
   ]
  }
 ],
 "metadata": {
  "kernelspec": {
   "display_name": "Python 3",
   "language": "python",
   "name": "python3"
  },
  "language_info": {
   "codemirror_mode": {
    "name": "ipython",
    "version": 3
   },
   "file_extension": ".py",
   "mimetype": "text/x-python",
   "name": "python",
   "nbconvert_exporter": "python",
   "pygments_lexer": "ipython3",
   "version": "3.7.5-final"
  }
 },
 "nbformat": 4,
 "nbformat_minor": 4
}